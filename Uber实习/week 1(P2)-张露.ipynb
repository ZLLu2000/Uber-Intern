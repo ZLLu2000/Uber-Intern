{
 "cells": [
  {
   "cell_type": "code",
   "execution_count": 1,
   "metadata": {},
   "outputs": [
    {
     "name": "stdout",
     "output_type": "stream",
     "text": [
      "123 124 132 134 142 143 213 214 231 234 241 243 312 314 321 324 341 342 412 413 421 423 431 432 \n",
      "共24种组合\n"
     ]
    }
   ],
   "source": [
    "# 1.有四个数字：1、2、3、4，能组成多少个互不相同且无重复数字的三位数？各是多少？\n",
    "counter=0\n",
    "from itertools import permutations\n",
    "for i in permutations([1,2,3,4],3):\n",
    "    print(\"{}{}{}\".format(i[0],i[1],i[2]),end=\" \")\n",
    "    counter +=1\n",
    "print(\"\")\n",
    "print(\"共{}种组合\".format(counter))"
   ]
  },
  {
   "cell_type": "code",
   "execution_count": 10,
   "metadata": {},
   "outputs": [
    {
     "name": "stdout",
     "output_type": "stream",
     "text": [
      "[1, 2, 3]\n"
     ]
    }
   ],
   "source": [
    "# 2.输入三个整数x,y,z，请把这三个数由小到大输出。\n",
    "x=int (input(\"请输入x的值：\"))\n",
    "y=int (input(\"请输入y的值：\"))\n",
    "z=int (input(\"请输入z的值：\"))\n",
    "l1=[x,y,z]\n",
    "l1.sort()\n",
    "print(l1)"
   ]
  },
  {
   "cell_type": "code",
   "execution_count": 5,
   "metadata": {},
   "outputs": [
    {
     "name": "stdout",
     "output_type": "stream",
     "text": [
      "1*1=1   \n",
      "2*1=2   \n",
      "2*2=4   \n",
      "3*1=3   \n",
      "3*2=6   \n",
      "3*3=9   \n",
      "4*1=4   \n",
      "4*2=8   \n",
      "4*3=12  \n",
      "4*4=16  \n",
      "5*1=5   \n",
      "5*2=10  \n",
      "5*3=15  \n",
      "5*4=20  \n",
      "5*5=25  \n",
      "6*1=6   \n",
      "6*2=12  \n",
      "6*3=18  \n",
      "6*4=24  \n",
      "6*5=30  \n",
      "6*6=36  \n",
      "7*1=7   \n",
      "7*2=14  \n",
      "7*3=21  \n",
      "7*4=28  \n",
      "7*5=35  \n",
      "7*6=42  \n",
      "7*7=49  \n",
      "8*1=8   \n",
      "8*2=16  \n",
      "8*3=24  \n",
      "8*4=32  \n",
      "8*5=40  \n",
      "8*6=48  \n",
      "8*7=56  \n",
      "8*8=64  \n",
      "9*1=9   \n",
      "9*2=18  \n",
      "9*3=27  \n",
      "9*4=36  \n",
      "9*5=45  \n",
      "9*6=54  \n",
      "9*7=63  \n",
      "9*8=72  \n",
      "9*9=81  \n"
     ]
    }
   ],
   "source": [
    "# 3.输出 9*9 乘法口诀表（正序）\n",
    "for i in range(1,10):\n",
    "    for j in range(1,i+1):\n",
    "        print(\"{0}*{1}={2:<4}\".format(i,j,i*j),end='')\n",
    "        print()"
   ]
  },
  {
   "cell_type": "code",
   "execution_count": 13,
   "metadata": {},
   "outputs": [
    {
     "name": "stdout",
     "output_type": "stream",
     "text": [
      "0         0         0         0         0         0         0         0         0         \n",
      "0         0         0         0         0         0         0         0         0         \n",
      "0         0         0         0         0         0         0         0         0         \n",
      "0         0         0         0         0         0         0         0         0         \n",
      "0         0         0         0         0         0         0         0         0         \n",
      "0         0         0         0         0         0         0         0         0         \n",
      "0         0         0         0         0         0         0         0         0         \n",
      "0         0         0         0         0         0         0         0         0         \n",
      "0         0         0         0         0         0         0         0         0         \n",
      "\n",
      "\n",
      "1*1=1   0         0         0         0         0         0         0         0         \n",
      "1*2=2   2*2=4   0         0         0         0         0         0         0         \n",
      "1*3=3   2*3=6   3*3=9   0         0         0         0         0         0         \n",
      "1*4=4   2*4=8   3*4=12  4*4=16  0         0         0         0         0         \n",
      "1*5=5   2*5=10  3*5=15  4*5=20  5*5=25  0         0         0         0         \n",
      "1*6=6   2*6=12  3*6=18  4*6=24  5*6=30  6*6=36  0         0         0         \n",
      "1*7=7   2*7=14  3*7=21  4*7=28  5*7=35  6*7=42  7*7=49  0         0         \n",
      "1*8=8   2*8=16  3*8=24  4*8=32  5*8=40  6*8=48  7*8=56  8*8=64  0         \n",
      "1*9=9   2*9=18  3*9=27  4*9=36  5*9=45  6*9=54  7*9=63  8*9=72  9*9=81  \n",
      "\n",
      "\n",
      "1*1=1   1*2=2   1*3=3   1*4=4   1*5=5   1*6=6   1*7=7   1*8=8   1*9=9   \n",
      "        2*2=4   2*3=6   2*4=8   2*5=10  2*6=12  2*7=14  2*8=16  2*9=18  \n",
      "                3*3=9   3*4=12  3*5=15  3*6=18  3*7=21  3*8=24  3*9=27  \n",
      "                        4*4=16  4*5=20  4*6=24  4*7=28  4*8=32  4*9=36  \n",
      "                                5*5=25  5*6=30  5*7=35  5*8=40  5*9=45  \n",
      "                                        6*6=36  6*7=42  6*8=48  6*9=54  \n",
      "                                                7*7=49  7*8=56  7*9=63  \n",
      "                                                        8*8=64  8*9=72  \n",
      "                                                                9*9=81  \n"
     ]
    }
   ],
   "source": [
    "# 3.输出 9*9 乘法口诀表（矩阵）\n",
    "del list\n",
    "def count(thatList):\n",
    "    for i in range(9):\n",
    "        for j in range(9):\n",
    "            if (thisList[i][j]!='0'):\n",
    "                print(thisList[i][j], end='')\n",
    "            elif(thisList[i][j]=='0'):\n",
    "                print(str('0         '),end='')\n",
    "        print()\n",
    "    print(end='\\n\\n')\n",
    "thisList = [0]*9\n",
    "for inedx in range(9):\n",
    "    thisList[inedx] = list ('0'for _ in range(9))\n",
    "count(thisList)\n",
    "for i in range(1,10):\n",
    "    for j in range(1,i+1):\n",
    "        thisList[i-1][j-1]=\"{0}*{1}={2:<4}\".format(j,i,i*j)\n",
    "count(thisList)\n",
    "for i in range(9):\n",
    "    for j in range(9):\n",
    "        if(thisList[j][i] != '0'):\n",
    "            print(thisList[j][i], end='')\n",
    "        elif(thisList[j][i] == '0'):\n",
    "            print(str(' '*8),end='')\n",
    "    print()"
   ]
  },
  {
   "cell_type": "code",
   "execution_count": 14,
   "metadata": {},
   "outputs": [
    {
     "name": "stdout",
     "output_type": "stream",
     "text": [
      "153\n",
      "370\n",
      "371\n",
      "407\n"
     ]
    }
   ],
   "source": [
    "# 4.打印出所有的\"水仙花数\"，所谓\"水仙花数\"是指一个三位数，其各位数字立方和等于该数本身。例如：153是一个\"水仙花数\"，因为153=1的三次方＋5的三次方＋3的三次方。\n",
    "for n in range (100,1000):\n",
    "   a=n//100\n",
    "   b=n//10%10\n",
    "   c=n%10\n",
    "   m=a*a*a+b*b*b+c*c*c\n",
    "   if n==m:\n",
    "      print (n)\n"
   ]
  },
  {
   "cell_type": "code",
   "execution_count": 3,
   "metadata": {},
   "outputs": [
    {
     "name": "stdout",
     "output_type": "stream",
     "text": [
      "90 =2*3*3*5"
     ]
    }
   ],
   "source": [
    "# 5.将一个正整数分解质因数。例如：输入90,打印出90=2*3*3*5。\n",
    "n=int(input(\"请输入一个数：\"))\n",
    "print(n,'=',end=\"\")\n",
    "i=2\n",
    "while i<= n:\n",
    "    if i==n:\n",
    "        print(i,end=\"\")\n",
    "        break\n",
    "    elif n % i == 0:\n",
    "        print(i, end=\"*\")\n",
    "        n= n / i\n",
    "    else:\n",
    "        i+=1\n"
   ]
  }
 ],
 "metadata": {
  "kernelspec": {
   "display_name": "Python 3.9.7 ('base')",
   "language": "python",
   "name": "python3"
  },
  "language_info": {
   "codemirror_mode": {
    "name": "ipython",
    "version": 3
   },
   "file_extension": ".py",
   "mimetype": "text/x-python",
   "name": "python",
   "nbconvert_exporter": "python",
   "pygments_lexer": "ipython3",
   "version": "3.9.7"
  },
  "orig_nbformat": 4,
  "vscode": {
   "interpreter": {
    "hash": "ad2bdc8ecc057115af97d19610ffacc2b4e99fae6737bb82f5d7fb13d2f2c186"
   }
  }
 },
 "nbformat": 4,
 "nbformat_minor": 2
}
